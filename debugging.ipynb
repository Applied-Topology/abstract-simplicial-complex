{
 "cells": [
  {
   "cell_type": "code",
   "execution_count": 13,
   "metadata": {},
   "outputs": [
    {
     "name": "stdout",
     "output_type": "stream",
     "text": [
      "[['Cow', 'Rabbit', 'Horse'], ['Cow', 'Rabbit', 'Dog'], ['Cow', 'Rabbit'], ['Cow', 'Horse', 'Dog'], ['Cow', 'Horse'], ['Cow', 'Dog'], ['Cow'], ['Rabbit', 'Horse', 'Dog'], ['Rabbit', 'Horse'], ['Rabbit', 'Dog'], ['Rabbit'], ['Horse', 'Dog'], ['Horse'], ['Dog'], ['Fish', 'Dolphin', 'Oyster'], ['Fish', 'Dolphin'], ['Fish', 'Oyster'], ['Fish'], ['Dolphin', 'Oyster'], ['Dolphin'], ['Oyster'], ['Broccoli', 'Fern', 'Onion'], ['Broccoli', 'Fern', 'Apple'], ['Broccoli', 'Fern'], ['Broccoli', 'Onion', 'Apple'], ['Broccoli', 'Onion'], ['Broccoli', 'Apple'], ['Broccoli'], ['Fern', 'Onion', 'Apple'], ['Fern', 'Onion'], ['Fern', 'Apple'], ['Fern'], ['Onion', 'Apple'], ['Onion'], ['Apple']]\n"
     ]
    }
   ],
   "source": [
    "from asc_tree import asc_tree\n",
    "import numpy as np\n",
    "import matplotlib.pyplot as plt\n",
    "\n",
    "simplicial_complex = asc_tree.ASC_Tree()\n",
    "simplicial_complex.add_path((\"Cow\", \"Rabbit\"))\n",
    "simplicial_complex.add_path((\"Cow\", \"Horse\"))\n",
    "simplicial_complex.add_path((\"Cow\", \"Dog\"))\n",
    "simplicial_complex.add_path((\"Rabbit\", \"Horse\"))\n",
    "simplicial_complex.add_path((\"Rabbit\", \"Dog\"))\n",
    "simplicial_complex.add_path((\"Horse\", \"Dog\"))\n",
    "simplicial_complex.add_path((\"Fish\", \"Dolphin\"))\n",
    "simplicial_complex.add_path((\"Fish\", \"Oyster\"))\n",
    "simplicial_complex.add_path((\"Dolphin\", \"Oyster\"))\n",
    "simplicial_complex.add_path((\"Broccoli\", \"Fern\"))\n",
    "simplicial_complex.add_path((\"Broccoli\", \"Onion\"))\n",
    "simplicial_complex.add_path((\"Broccoli\", \"Apple\"))\n",
    "simplicial_complex.add_path((\"Fern\", \"Onion\"))\n",
    "simplicial_complex.add_path((\"Fern\", \"Apple\"))\n",
    "simplicial_complex.add_path((\"Onion\", \"Apple\"))\n",
    "simplicial_complex.add_path((\"Cow\", \"Rabbit\", \"Horse\"))\n",
    "simplicial_complex.add_path((\"Cow\", \"Rabbit\", \"Dog\"))\n",
    "simplicial_complex.add_path((\"Cow\", \"Horse\", \"Dog\"))\n",
    "simplicial_complex.add_path((\"Rabbit\", \"Horse\", \"Dog\"))\n",
    "simplicial_complex.add_path((\"Fish\", \"Dolphin\", \"Oyster\"))\n",
    "simplicial_complex.add_path((\"Broccoli\", \"Fern\", \"Onion\"))\n",
    "simplicial_complex.add_path((\"Broccoli\", \"Fern\", \"Apple\"))\n",
    "simplicial_complex.add_path((\"Broccoli\", \"Onion\", \"Apple\"))\n",
    "simplicial_complex.add_path((\"Fern\", \"Onion\", \"Apple\"))\n",
    "\n",
    "print(simplicial_complex.get_paths())\n"
   ]
  },
  {
   "cell_type": "code",
   "execution_count": 21,
   "metadata": {},
   "outputs": [],
   "source": [
    "mat, rows, cols = simplicial_complex.get_boundary_matrix(3)"
   ]
  },
  {
   "cell_type": "code",
   "execution_count": 39,
   "metadata": {},
   "outputs": [
    {
     "data": {
      "text/plain": [
       "((15, 9), 15, 9)"
      ]
     },
     "execution_count": 39,
     "metadata": {},
     "output_type": "execute_result"
    }
   ],
   "source": [
    "mat.shape, len(rows), len(cols)"
   ]
  },
  {
   "cell_type": "code",
   "execution_count": 42,
   "metadata": {},
   "outputs": [
    {
     "data": {
      "text/plain": [
       "['Cow,Rabbit',\n",
       " 'Cow,Horse',\n",
       " 'Cow,Dog',\n",
       " 'Rabbit,Horse',\n",
       " 'Dog,Rabbit',\n",
       " 'Dog,Horse',\n",
       " 'Dolphin,Fish',\n",
       " 'Oyster,Fish',\n",
       " 'Dolphin,Oyster',\n",
       " 'Broccoli,Fern',\n",
       " 'Broccoli,Onion',\n",
       " 'Apple,Broccoli',\n",
       " 'Onion,Fern',\n",
       " 'Apple,Fern',\n",
       " 'Apple,Onion']"
      ]
     },
     "execution_count": 42,
     "metadata": {},
     "output_type": "execute_result"
    }
   ],
   "source": [
    "y_label_list"
   ]
  },
  {
   "cell_type": "code",
   "execution_count": 54,
   "metadata": {},
   "outputs": [
    {
     "data": {
      "text/plain": [
       "[Text(0, 0, 'Cow,Rabbit'),\n",
       " Text(0, 1, 'Cow,Horse'),\n",
       " Text(0, 2, 'Cow,Dog'),\n",
       " Text(0, 3, 'Rabbit,Horse'),\n",
       " Text(0, 4, 'Dog,Rabbit'),\n",
       " Text(0, 5, 'Dog,Horse'),\n",
       " Text(0, 6, 'Dolphin,Fish'),\n",
       " Text(0, 7, 'Oyster,Fish'),\n",
       " Text(0, 8, 'Dolphin,Oyster'),\n",
       " Text(0, 9, 'Broccoli,Fern'),\n",
       " Text(0, 10, 'Broccoli,Onion'),\n",
       " Text(0, 11, 'Apple,Broccoli'),\n",
       " Text(0, 12, 'Onion,Fern'),\n",
       " Text(0, 13, 'Apple,Fern'),\n",
       " Text(0, 14, 'Apple,Onion')]"
      ]
     },
     "execution_count": 54,
     "metadata": {},
     "output_type": "execute_result"
    },
    {
     "data": {
      "image/png": "[encoded data removed]",
      "text/plain": [
       "<Figure size 720x720 with 1 Axes>"
      ]
     },
     "metadata": {
      "needs_background": "light"
     },
     "output_type": "display_data"
    }
   ],
   "source": [
    "fig,ax = plt.subplots(1,1, figsize=(10,10))\n",
    "ax.imshow(mat, cmap='gray')\n",
    "x_label_list = list(map(lambda x: \",\".join(list(x)),cols))\n",
    "y_label_list = list(map(lambda x: \",\".join(list(x)),rows))\n",
    "\n",
    "ax.set_yticks(range(0,len(y_label_list)))\n",
    "ax.set_xticks(range(0,len(x_label_list)))\n",
    "\n",
    "ax.set_xticklabels(x_label_list,rotation=90)\n",
    "ax.set_yticklabels(y_label_list)"
   ]
  },
  {
   "cell_type": "code",
   "execution_count": 15,
   "metadata": {},
   "outputs": [
    {
     "data": {
      "text/plain": [
       "[{'Cow', 'Rabbit'},\n",
       " {'Cow', 'Horse'},\n",
       " {'Cow', 'Dog'},\n",
       " {'Horse', 'Rabbit'},\n",
       " {'Dog', 'Rabbit'},\n",
       " {'Dog', 'Horse'},\n",
       " {'Dolphin', 'Fish'},\n",
       " {'Fish', 'Oyster'},\n",
       " {'Dolphin', 'Oyster'},\n",
       " {'Broccoli', 'Fern'},\n",
       " {'Broccoli', 'Onion'},\n",
       " {'Apple', 'Broccoli'},\n",
       " {'Fern', 'Onion'},\n",
       " {'Apple', 'Fern'},\n",
       " {'Apple', 'Onion'}]"
      ]
     },
     "execution_count": 15,
     "metadata": {},
     "output_type": "execute_result"
    }
   ],
   "source": [
    "simplicial_complex.get_boundary_matrix(2)[2]"
   ]
  },
  {
   "cell_type": "code",
   "execution_count": null,
   "metadata": {},
   "outputs": [],
   "source": [
    "# simplicial_complex.add_path((\"Cow\", \"Rabbit\"))  (Cow, Rabbit) \n",
    "# simplicial_complex.add_path((\"Cow\", \"Horse\")) (Cow, Horse)\n",
    "# simplicial_complex.add_path((\"Rabbit\", \"Horse\")) (Horse, Rabbit)\n",
    "# simplicial_complex.add_path((\"Rabbit\", \"Dog\"))  (Dog, Rabbit)\n",
    "# simplicial_complex.add_path((\"Horse\", \"Dog\"))    (Dog, Horse) \n",
    "# simplicial_complex.add_path((\"Fish\", \"Dolphin\"))  (Dolphin, Fish) \n",
    "# simplicial_complex.add_path((\"Fish\", \"Oyster\"))   (Fish, Oyster) \n",
    "# simplicial_complex.add_path((\"Dolphin\", \"Oyster\")) (Dolphin, Oyster)\n",
    "# simplicial_complex.add_path((\"Broccoli\", \"Fern\"))   (Broccoli, Fern)\n",
    "# simplicial_complex.add_path((\"Broccoli\", \"Onion\"))  (Broccoli, Onion)\n",
    "# simplicial_complex.add_path((\"Broccoli\", \"Apple\"))  (Apple, Broccoli)\n",
    "# simplicial_complex.add_path((\"Fern\", \"Onion\")) (Fern, Onion)\n",
    "# simplicial_complex.add_path((\"Fern\", \"Apple\")) (Apple, Fern)\n",
    "# simplicial_complex.add_path((\"Onion\", \"Apple\")) (Apple, Onion)\n",
    "\n",
    "# (Cow, Dog)"
   ]
  }
 ],
 "metadata": {
  "kernelspec": {
   "display_name": "Python 3",
   "language": "python",
   "name": "python3"
  },
  "language_info": {
   "codemirror_mode": {
    "name": "ipython",
    "version": 3
   },
   "file_extension": ".py",
   "mimetype": "text/x-python",
   "name": "python",
   "nbconvert_exporter": "python",
   "pygments_lexer": "ipython3",
   "version": "3.8.5"
  }
 },
 "nbformat": 4,
 "nbformat_minor": 4
}
