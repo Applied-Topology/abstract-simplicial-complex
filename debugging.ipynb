{
 "cells": [
  {
   "cell_type": "code",
   "execution_count": 1,
   "metadata": {},
   "outputs": [
    {
     "name": "stdout",
     "output_type": "stream",
     "text": [
      "[['Cow', 'Rabbit', 'Horse'], ['Cow', 'Rabbit', 'Dog'], ['Cow', 'Rabbit'], ['Cow', 'Horse', 'Dog'], ['Cow', 'Horse'], ['Cow', 'Dog'], ['Cow'], ['Rabbit', 'Horse', 'Dog'], ['Rabbit', 'Horse'], ['Rabbit', 'Dog'], ['Rabbit'], ['Horse', 'Dog'], ['Horse'], ['Dog'], ['Fish', 'Dolphin', 'Oyster'], ['Fish', 'Dolphin'], ['Fish', 'Oyster'], ['Fish'], ['Dolphin', 'Oyster'], ['Dolphin'], ['Oyster'], ['Broccoli', 'Fern', 'Onion'], ['Broccoli', 'Fern', 'Apple'], ['Broccoli', 'Fern'], ['Broccoli', 'Onion', 'Apple'], ['Broccoli', 'Onion'], ['Broccoli', 'Apple'], ['Broccoli'], ['Fern', 'Onion', 'Apple'], ['Fern', 'Onion'], ['Fern', 'Apple'], ['Fern'], ['Onion', 'Apple'], ['Onion'], ['Apple']]\n"
     ]
    }
   ],
   "source": [
    "from asc_tree import asc_tree\n",
    "import numpy as np\n",
    "import matplotlib.pyplot as plt\n",
    "\n",
    "simplicial_complex = asc_tree.ASC_Tree()\n",
    "simplicial_complex.add_path((\"Cow\", \"Rabbit\"))\n",
    "simplicial_complex.add_path((\"Cow\", \"Horse\"))\n",
    "simplicial_complex.add_path((\"Cow\", \"Dog\"))\n",
    "simplicial_complex.add_path((\"Rabbit\", \"Horse\"))\n",
    "simplicial_complex.add_path((\"Rabbit\", \"Dog\"))\n",
    "simplicial_complex.add_path((\"Horse\", \"Dog\"))\n",
    "simplicial_complex.add_path((\"Fish\", \"Dolphin\"))\n",
    "simplicial_complex.add_path((\"Fish\", \"Oyster\"))\n",
    "simplicial_complex.add_path((\"Dolphin\", \"Oyster\"))\n",
    "simplicial_complex.add_path((\"Broccoli\", \"Fern\"))\n",
    "simplicial_complex.add_path((\"Broccoli\", \"Onion\"))\n",
    "simplicial_complex.add_path((\"Broccoli\", \"Apple\"))\n",
    "simplicial_complex.add_path((\"Fern\", \"Onion\"))\n",
    "simplicial_complex.add_path((\"Fern\", \"Apple\"))\n",
    "simplicial_complex.add_path((\"Onion\", \"Apple\"))\n",
    "simplicial_complex.add_path((\"Cow\", \"Rabbit\", \"Horse\"))\n",
    "simplicial_complex.add_path((\"Cow\", \"Rabbit\", \"Dog\"))\n",
    "simplicial_complex.add_path((\"Cow\", \"Horse\", \"Dog\"))\n",
    "simplicial_complex.add_path((\"Rabbit\", \"Horse\", \"Dog\"))\n",
    "simplicial_complex.add_path((\"Fish\", \"Dolphin\", \"Oyster\"))\n",
    "simplicial_complex.add_path((\"Broccoli\", \"Fern\", \"Onion\"))\n",
    "simplicial_complex.add_path((\"Broccoli\", \"Fern\", \"Apple\"))\n",
    "simplicial_complex.add_path((\"Broccoli\", \"Onion\", \"Apple\"))\n",
    "simplicial_complex.add_path((\"Fern\", \"Onion\", \"Apple\"))\n",
    "\n",
    "print(simplicial_complex.get_paths())\n"
   ]
  },
  {
   "cell_type": "code",
   "execution_count": 2,
   "metadata": {},
   "outputs": [],
   "source": [
    "mat, rows, cols = simplicial_complex.get_boundary_matrix(3)"
   ]
  },
  {
   "cell_type": "code",
   "execution_count": 3,
   "metadata": {},
   "outputs": [
    {
     "data": {
      "text/plain": [
       "((15, 9), 15, 9)"
      ]
     },
     "execution_count": 3,
     "metadata": {},
     "output_type": "execute_result"
    }
   ],
   "source": [
    "mat.shape, len(rows), len(cols)"
   ]
  },
  {
   "cell_type": "code",
   "execution_count": 4,
   "metadata": {},
   "outputs": [
    {
     "ename": "NameError",
     "evalue": "name 'y_label_list' is not defined",
     "output_type": "error",
     "traceback": [
      "\u001b[1;31m---------------------------------------------------------------------------\u001b[0m",
      "\u001b[1;31mNameError\u001b[0m                                 Traceback (most recent call last)",
      "\u001b[1;32m<ipython-input-4-2266a067c097>\u001b[0m in \u001b[0;36m<module>\u001b[1;34m\u001b[0m\n\u001b[1;32m----> 1\u001b[1;33m \u001b[0my_label_list\u001b[0m\u001b[1;33m\u001b[0m\u001b[1;33m\u001b[0m\u001b[0m\n\u001b[0m",
      "\u001b[1;31mNameError\u001b[0m: name 'y_label_list' is not defined"
     ]
    }
   ],
   "source": [
    "y_label_list"
   ]
  },
  {
   "cell_type": "code",
   "execution_count": null,
   "metadata": {},
   "outputs": [],
   "source": [
    "fig,ax = plt.subplots(1,1, figsize=(10,10))\n",
    "ax.imshow(mat, cmap='gray')\n",
    "x_label_list = list(map(lambda x: \",\".join(list(x)),cols))\n",
    "y_label_list = list(map(lambda x: \",\".join(list(x)),rows))\n",
    "\n",
    "ax.set_yticks(range(0,len(y_label_list)))\n",
    "ax.set_xticks(range(0,len(x_label_list)))\n",
    "\n",
    "ax.set_xticklabels(x_label_list,rotation=90)\n",
    "ax.set_yticklabels(y_label_list)"
   ]
  },
  {
   "cell_type": "code",
   "execution_count": null,
   "metadata": {},
   "outputs": [],
   "source": [
    "simplicial_complex.get_boundary_matrix(2)[2]"
   ]
  },
  {
   "cell_type": "code",
   "execution_count": 5,
   "metadata": {},
   "outputs": [],
   "source": [
    "# simplicial_complex.add_path((\"Cow\", \"Rabbit\"))  (Cow, Rabbit) \n",
    "# simplicial_complex.add_path((\"Cow\", \"Horse\")) (Cow, Horse)\n",
    "# simplicial_complex.add_path((\"Rabbit\", \"Horse\")) (Horse, Rabbit)\n",
    "# simplicial_complex.add_path((\"Rabbit\", \"Dog\"))  (Dog, Rabbit)\n",
    "# simplicial_complex.add_path((\"Horse\", \"Dog\"))    (Dog, Horse) \n",
    "# simplicial_complex.add_path((\"Fish\", \"Dolphin\"))  (Dolphin, Fish) \n",
    "# simplicial_complex.add_path((\"Fish\", \"Oyster\"))   (Fish, Oyster) \n",
    "# simplicial_complex.add_path((\"Dolphin\", \"Oyster\")) (Dolphin, Oyster)\n",
    "# simplicial_complex.add_path((\"Broccoli\", \"Fern\"))   (Broccoli, Fern)\n",
    "# simplicial_complex.add_path((\"Broccoli\", \"Onion\"))  (Broccoli, Onion)\n",
    "# simplicial_complex.add_path((\"Broccoli\", \"Apple\"))  (Apple, Broccoli)\n",
    "# simplicial_complex.add_path((\"Fern\", \"Onion\")) (Fern, Onion)\n",
    "# simplicial_complex.add_path((\"Fern\", \"Apple\")) (Apple, Fern)\n",
    "# simplicial_complex.add_path((\"Onion\", \"Apple\")) (Apple, Onion)\n",
    "\n",
    "# (Cow, Dog)"
   ]
  },
  {
   "cell_type": "code",
   "execution_count": 35,
   "metadata": {},
   "outputs": [],
   "source": [
    "import numpy as np\n",
    "\n",
    "class Z2array(np.ndarray):\n",
    "    \"\"\" class overloading a numpy array for addition\n",
    "    \"\"\"\n",
    "    def __new__(cls, input_array):\n",
    "        obj = np.asarray(input_array).view(cls)\n",
    "        return np.abs(np.round(obj) % 2)\n",
    "\n",
    "    def __array_finalize__(self, obj):\n",
    "        return None\n",
    "    \n",
    "    def __add__(self,x):\n",
    "        return Z2array(np.array(self) + np.array(x)) %2\n",
    "    \n",
    "    def __radd__(self,x):\n",
    "        return Z2array(np.array(self) + np.array(x)) %2\n",
    "    \n",
    "    def __iadd__(self,x):\n",
    "        return Z2array(np.array(self) + np.array(x)) %2\n",
    "    \n",
    "    def __mul__(self,x):\n",
    "        return Z2array(np.array(self) * np.array(x))  %2\n",
    "    \n",
    "    def __rmul__(self,x):\n",
    "        return Z2array(np.array(self) * np.array(x)) %2\n",
    "    \n",
    "    def __imul__(self,x):\n",
    "        return Z2array(np.array(self) * np.array(x)) %2\n",
    "    \n",
    "    def __sub__(self,x):\n",
    "        return Z2array(np.array(self) - np.array(x)) %2\n",
    "    \n",
    "    def __rsub__(self,x):\n",
    "        return Z2array(np.array(self) - np.array(x)) %2\n",
    "    \n",
    "    def __isub__(self,x):\n",
    "        return Z2array(np.array(self) - np.array(x)) %2\n",
    "    \n",
    "    def __div__(self, scalar):\n",
    "        return self\n",
    "    \n",
    "    def __rdiv__(self, scalar):\n",
    "        return self\n",
    "    \n",
    "    def __idiv__(self, scalar):\n",
    "        return self\n",
    "    \n",
    "    def __floordiv__(self, scalar):\n",
    "        return self\n",
    "    \n",
    "    def __truediv__(self, scalar):\n",
    "        return self\n",
    "\n",
    "    def __array__(self):\n",
    "        \"\"\" so that numpy's array() returns values\n",
    "        \"\"\"\n",
    "        return self\n",
    "    \n",
    "#     def __array_wrap__(self, out_arr, context=None):\n",
    "# #         print('In __array_wrap__:')\n",
    "# #         print('   self is %s' % repr(self))\n",
    "# #         print('   arr is %s' % repr(out_arr))\n",
    "#         # then just call the parent\n",
    "#         return super(Z2array, self).__array_wrap__(self, out_arr, context)\n",
    "\n",
    "#     def __repr__(self):\n",
    "#         return \"Z2 array of shape %s: \\n %s\" % (str(self.shape), str(self)[:100])"
   ]
  },
  {
   "cell_type": "code",
   "execution_count": 36,
   "metadata": {},
   "outputs": [],
   "source": [
    "F = Z2array(mat)"
   ]
  },
  {
   "cell_type": "code",
   "execution_count": 55,
   "metadata": {},
   "outputs": [],
   "source": [
    "F = mat == 1"
   ]
  },
  {
   "cell_type": "code",
   "execution_count": 56,
   "metadata": {},
   "outputs": [
    {
     "data": {
      "text/plain": [
       "array([[ True,  True,  True,  True,  True, False, False, False, False,\n",
       "        False, False, False, False, False, False],\n",
       "       [ True,  True,  True,  True, False,  True, False, False, False,\n",
       "        False, False, False, False, False, False],\n",
       "       [ True,  True,  True, False,  True,  True, False, False, False,\n",
       "        False, False, False, False, False, False],\n",
       "       [ True,  True, False,  True,  True,  True, False, False, False,\n",
       "        False, False, False, False, False, False],\n",
       "       [ True, False,  True,  True,  True,  True, False, False, False,\n",
       "        False, False, False, False, False, False],\n",
       "       [False,  True,  True,  True,  True,  True, False, False, False,\n",
       "        False, False, False, False, False, False],\n",
       "       [False, False, False, False, False, False,  True,  True,  True,\n",
       "        False, False, False, False, False, False],\n",
       "       [False, False, False, False, False, False,  True,  True,  True,\n",
       "        False, False, False, False, False, False],\n",
       "       [False, False, False, False, False, False,  True,  True,  True,\n",
       "        False, False, False, False, False, False],\n",
       "       [False, False, False, False, False, False, False, False, False,\n",
       "         True,  True,  True,  True,  True, False],\n",
       "       [False, False, False, False, False, False, False, False, False,\n",
       "         True,  True,  True,  True, False,  True],\n",
       "       [False, False, False, False, False, False, False, False, False,\n",
       "         True,  True,  True, False,  True,  True],\n",
       "       [False, False, False, False, False, False, False, False, False,\n",
       "         True,  True, False,  True,  True,  True],\n",
       "       [False, False, False, False, False, False, False, False, False,\n",
       "         True, False,  True,  True,  True,  True],\n",
       "       [False, False, False, False, False, False, False, False, False,\n",
       "        False,  True,  True,  True,  True,  True]])"
      ]
     },
     "execution_count": 56,
     "metadata": {},
     "output_type": "execute_result"
    }
   ],
   "source": [
    "np.dot(F , F.T )"
   ]
  },
  {
   "cell_type": "code",
   "execution_count": 57,
   "metadata": {},
   "outputs": [
    {
     "ename": "ValueError",
     "evalue": "Input a needs to be a square matrix.",
     "output_type": "error",
     "traceback": [
      "\u001b[1;31m---------------------------------------------------------------------------\u001b[0m",
      "\u001b[1;31mValueError\u001b[0m                                Traceback (most recent call last)",
      "\u001b[1;32m<ipython-input-57-9c5875a24064>\u001b[0m in \u001b[0;36m<module>\u001b[1;34m\u001b[0m\n\u001b[1;32m----> 1\u001b[1;33m \u001b[0mscipy\u001b[0m\u001b[1;33m.\u001b[0m\u001b[0mlinalg\u001b[0m\u001b[1;33m.\u001b[0m\u001b[0msolve\u001b[0m\u001b[1;33m(\u001b[0m\u001b[0mF\u001b[0m\u001b[1;33m,\u001b[0m \u001b[0mnp\u001b[0m\u001b[1;33m.\u001b[0m\u001b[0meye\u001b[0m\u001b[1;33m(\u001b[0m\u001b[0mF\u001b[0m\u001b[1;33m.\u001b[0m\u001b[0mshape\u001b[0m\u001b[1;33m[\u001b[0m\u001b[1;36m0\u001b[0m\u001b[1;33m]\u001b[0m\u001b[1;33m,\u001b[0m \u001b[0mF\u001b[0m\u001b[1;33m.\u001b[0m\u001b[0mshape\u001b[0m\u001b[1;33m[\u001b[0m\u001b[1;36m1\u001b[0m\u001b[1;33m]\u001b[0m\u001b[1;33m)\u001b[0m\u001b[1;33m)\u001b[0m\u001b[1;33m\u001b[0m\u001b[1;33m\u001b[0m\u001b[0m\n\u001b[0m",
      "\u001b[1;32m~\\anaconda3\\lib\\site-packages\\scipy\\linalg\\basic.py\u001b[0m in \u001b[0;36msolve\u001b[1;34m(a, b, sym_pos, lower, overwrite_a, overwrite_b, debug, check_finite, assume_a, transposed)\u001b[0m\n\u001b[0;32m    143\u001b[0m \u001b[1;33m\u001b[0m\u001b[0m\n\u001b[0;32m    144\u001b[0m     \u001b[1;32mif\u001b[0m \u001b[0ma1\u001b[0m\u001b[1;33m.\u001b[0m\u001b[0mshape\u001b[0m\u001b[1;33m[\u001b[0m\u001b[1;36m0\u001b[0m\u001b[1;33m]\u001b[0m \u001b[1;33m!=\u001b[0m \u001b[0ma1\u001b[0m\u001b[1;33m.\u001b[0m\u001b[0mshape\u001b[0m\u001b[1;33m[\u001b[0m\u001b[1;36m1\u001b[0m\u001b[1;33m]\u001b[0m\u001b[1;33m:\u001b[0m\u001b[1;33m\u001b[0m\u001b[1;33m\u001b[0m\u001b[0m\n\u001b[1;32m--> 145\u001b[1;33m         \u001b[1;32mraise\u001b[0m \u001b[0mValueError\u001b[0m\u001b[1;33m(\u001b[0m\u001b[1;34m'Input a needs to be a square matrix.'\u001b[0m\u001b[1;33m)\u001b[0m\u001b[1;33m\u001b[0m\u001b[1;33m\u001b[0m\u001b[0m\n\u001b[0m\u001b[0;32m    146\u001b[0m \u001b[1;33m\u001b[0m\u001b[0m\n\u001b[0;32m    147\u001b[0m     \u001b[1;32mif\u001b[0m \u001b[0mn\u001b[0m \u001b[1;33m!=\u001b[0m \u001b[0mb1\u001b[0m\u001b[1;33m.\u001b[0m\u001b[0mshape\u001b[0m\u001b[1;33m[\u001b[0m\u001b[1;36m0\u001b[0m\u001b[1;33m]\u001b[0m\u001b[1;33m:\u001b[0m\u001b[1;33m\u001b[0m\u001b[1;33m\u001b[0m\u001b[0m\n",
      "\u001b[1;31mValueError\u001b[0m: Input a needs to be a square matrix."
     ]
    }
   ],
   "source": [
    "scipy.linalg.solve(F, np.eye(F.shape[0], F.shape[1]))"
   ]
  },
  {
   "cell_type": "code",
   "execution_count": 58,
   "metadata": {},
   "outputs": [
    {
     "data": {
      "text/plain": [
       "array([[-19, -19,   0,   0,   0,   0,   0,   0,   0],\n",
       "       [-19,   0, -19,   0,   0,   0,   0,   0,   0],\n",
       "       [  0, -19, -19,   0,   0,   0,   0,   0,   0],\n",
       "       [-19,   0,   0, -19,   0,   0,   0,   0,   0],\n",
       "       [  0, -19,   0, -19,   0,   0,   0,   0,   0],\n",
       "       [  0,   0, -19, -19,   0,   0,   0,   0,   0],\n",
       "       [  0,   0,   0,   0, -19,   0,   0,   0,   0],\n",
       "       [  0,   0,   0,   0, -19,   0,   0,   0,   0],\n",
       "       [  0,   0,   0,   0, -19,   0,   0,   0,   0],\n",
       "       [  0,   0,   0,   0,   0, -19, -19,   0,   0],\n",
       "       [  0,   0,   0,   0,   0, -19,   0, -19,   0],\n",
       "       [  0,   0,   0,   0,   0,   0, -19, -19,   0],\n",
       "       [  0,   0,   0,   0,   0, -19,   0,   0, -19],\n",
       "       [  0,   0,   0,   0,   0,   0, -19,   0, -19],\n",
       "       [  0,   0,   0,   0,   0,   0,   0, -19, -19]])"
      ]
     },
     "execution_count": 58,
     "metadata": {},
     "output_type": "execute_result"
    }
   ],
   "source": [
    "F - 20 *F"
   ]
  },
  {
   "cell_type": "code",
   "execution_count": 59,
   "metadata": {},
   "outputs": [
    {
     "data": {
      "text/plain": [
       "9"
      ]
     },
     "execution_count": 59,
     "metadata": {},
     "output_type": "execute_result"
    }
   ],
   "source": [
    "np.linalg.matrix_rank(F)"
   ]
  },
  {
   "cell_type": "code",
   "execution_count": 42,
   "metadata": {},
   "outputs": [],
   "source": [
    "import scipy\n",
    "P , L , U  = scipy.linalg.lu(F)"
   ]
  },
  {
   "cell_type": "code",
   "execution_count": 43,
   "metadata": {},
   "outputs": [
    {
     "data": {
      "text/plain": [
       "Z2array([[ True,  True,  True,  True,  True,  True,  True,  True,  True],\n",
       "         [ True,  True,  True,  True,  True,  True,  True,  True,  True],\n",
       "         [ True,  True,  True,  True,  True,  True,  True,  True,  True],\n",
       "         [ True,  True,  True,  True,  True,  True,  True,  True,  True],\n",
       "         [ True,  True,  True,  True,  True,  True,  True,  True,  True],\n",
       "         [ True,  True,  True,  True,  True,  True,  True,  True,  True],\n",
       "         [ True,  True,  True,  True,  True,  True,  True,  True,  True],\n",
       "         [ True,  True,  True,  True,  True,  True,  True,  True,  True],\n",
       "         [ True,  True,  True,  True,  True,  True,  True,  True,  True],\n",
       "         [ True,  True,  True,  True,  True,  True,  True,  True,  True],\n",
       "         [ True,  True,  True,  True,  True,  True,  True,  True,  True],\n",
       "         [ True,  True,  True,  True,  True,  True,  True,  True,  True],\n",
       "         [ True,  True,  True,  True,  True,  True,  True,  True,  True],\n",
       "         [ True,  True,  True,  True,  True,  True,  True,  True,  True],\n",
       "         [ True,  True,  True,  True,  True,  True,  True,  True,  True]])"
      ]
     },
     "execution_count": 43,
     "metadata": {},
     "output_type": "execute_result"
    }
   ],
   "source": [
    "P @ L @ U  == F"
   ]
  },
  {
   "cell_type": "code",
   "execution_count": 47,
   "metadata": {},
   "outputs": [
    {
     "data": {
      "text/plain": [
       "array([[ 1. ,  0. ,  0. ,  0. ,  0. ,  0. ,  0. ,  0. ,  0. ],\n",
       "       [ 1. ,  1. ,  0. ,  0. ,  0. ,  0. ,  0. ,  0. ,  0. ],\n",
       "       [ 0. , -1. ,  1. ,  0. ,  0. ,  0. ,  0. ,  0. ,  0. ],\n",
       "       [ 1. ,  1. , -0.5,  1. ,  0. ,  0. ,  0. ,  0. ,  0. ],\n",
       "       [ 0. , -0. ,  0. ,  0. ,  1. ,  0. ,  0. ,  0. ,  0. ],\n",
       "       [ 0. , -0. ,  0. ,  0. ,  0. ,  1. ,  0. ,  0. ,  0. ],\n",
       "       [ 0. , -0. ,  0. ,  0. ,  0. ,  1. ,  1. ,  0. ,  0. ],\n",
       "       [ 0. , -0. ,  0. ,  0. ,  0. ,  0. , -1. ,  1. ,  0. ],\n",
       "       [ 0. , -0. ,  0. ,  0. ,  0. ,  1. ,  1. , -0.5,  1. ],\n",
       "       [ 0. , -0. ,  0.5,  1. ,  0. ,  0. , -0. ,  0. ,  0. ],\n",
       "       [ 0. , -1. ,  0.5,  1. ,  0. ,  0. , -0. ,  0. ,  0. ],\n",
       "       [ 0. , -0. ,  0. ,  0. ,  1. ,  0. , -0. ,  0. ,  0. ],\n",
       "       [ 0. , -0. ,  0. ,  0. ,  1. ,  0. , -0. ,  0. ,  0. ],\n",
       "       [ 0. , -0. ,  0. ,  0. ,  0. ,  0. , -1. ,  0.5,  1. ],\n",
       "       [ 0. , -0. ,  0. ,  0. ,  0. ,  0. , -0. ,  0.5,  1. ]])"
      ]
     },
     "execution_count": 47,
     "metadata": {},
     "output_type": "execute_result"
    }
   ],
   "source": [
    "L"
   ]
  },
  {
   "cell_type": "code",
   "execution_count": 60,
   "metadata": {},
   "outputs": [],
   "source": [
    "Q, R = scipy.linalg.qr(F)"
   ]
  },
  {
   "cell_type": "code",
   "execution_count": 61,
   "metadata": {},
   "outputs": [
    {
     "data": {
      "text/plain": [
       "(array([[-5.77350259e-01,  4.08248276e-01,  3.16227823e-01,\n",
       "          2.58198857e-01,  0.00000000e+00,  0.00000000e+00,\n",
       "          8.02570721e-09, -4.01285360e-09,  8.00036393e-09,\n",
       "         -2.91006237e-01, -3.12401623e-01, -9.94765013e-02,\n",
       "         -3.29467952e-01, -1.16542794e-01, -1.37938187e-01],\n",
       "        [-5.77350259e-01, -2.04124182e-01, -4.74341661e-01,\n",
       "          2.58198887e-01,  0.00000000e+00,  0.00000000e+00,\n",
       "         -1.32916989e-09,  6.64584943e-10,  1.94250287e-08,\n",
       "         -3.22856265e-03,  5.54572456e-02,  2.72855788e-01,\n",
       "          1.02268755e-01,  3.19667310e-01,  3.78353059e-01],\n",
       "        [-0.00000000e+00,  6.12372458e-01, -4.74341661e-01,\n",
       "          2.58198887e-01,  0.00000000e+00,  0.00000000e+00,\n",
       "         -6.69653710e-09,  3.34826855e-09, -2.74253935e-08,\n",
       "          2.94234812e-01,  2.56944418e-01, -1.73379317e-01,\n",
       "          2.27199227e-01, -2.03124508e-01, -2.40414873e-01],\n",
       "        [-5.77350259e-01, -2.04124182e-01,  1.58113867e-01,\n",
       "         -5.16397774e-01,  0.00000000e+00,  0.00000000e+00,\n",
       "         -6.69653888e-09,  3.34826944e-09, -2.74253917e-08,\n",
       "          2.94234812e-01,  2.56944448e-01, -1.73379302e-01,\n",
       "          2.27199227e-01, -2.03124508e-01, -2.40414873e-01],\n",
       "        [-0.00000000e+00,  6.12372458e-01,  1.58113912e-01,\n",
       "         -5.16397774e-01,  0.00000000e+00,  0.00000000e+00,\n",
       "         -1.32917044e-09,  6.64585220e-10,  1.94250269e-08,\n",
       "         -3.22857848e-03,  5.54572232e-02,  2.72855818e-01,\n",
       "          1.02268733e-01,  3.19667280e-01,  3.78353059e-01],\n",
       "        [-0.00000000e+00,  0.00000000e+00, -6.32455528e-01,\n",
       "         -5.16397774e-01, -0.00000000e+00,  0.00000000e+00,\n",
       "          8.02570810e-09, -4.01285405e-09,  8.00036570e-09,\n",
       "         -2.91006267e-01, -3.12401652e-01, -9.94764790e-02,\n",
       "         -3.29467982e-01, -1.16542786e-01, -1.37938187e-01],\n",
       "        [-0.00000000e+00,  0.00000000e+00, -0.00000000e+00,\n",
       "         -0.00000000e+00, -5.77350259e-01, -0.00000000e+00,\n",
       "          0.00000000e+00,  0.00000000e+00,  1.49011603e-08,\n",
       "         -4.63641077e-01,  2.08130330e-01, -3.36200774e-01,\n",
       "          2.55510747e-01, -2.88820416e-01,  3.82951081e-01],\n",
       "        [-0.00000000e+00,  0.00000000e+00, -0.00000000e+00,\n",
       "         -0.00000000e+00, -5.77350259e-01, -0.00000000e+00,\n",
       "          0.00000000e+00,  0.00000000e+00, -3.72529030e-08,\n",
       "          2.60834992e-01, -4.70335364e-01, -1.98169902e-01,\n",
       "          2.09500447e-01,  4.81665999e-01, -2.49504507e-01],\n",
       "        [-0.00000000e+00,  0.00000000e+00, -0.00000000e+00,\n",
       "         -0.00000000e+00, -5.77350259e-01, -0.00000000e+00,\n",
       "          0.00000000e+00, -0.00000000e+00,  2.23517400e-08,\n",
       "          2.02806070e-01,  2.62205064e-01,  5.34370661e-01,\n",
       "         -4.65011179e-01, -1.92845657e-01, -1.33446634e-01],\n",
       "        [-0.00000000e+00,  0.00000000e+00, -0.00000000e+00,\n",
       "         -0.00000000e+00, -0.00000000e+00, -5.77350259e-01,\n",
       "         -4.08248305e-01,  3.16227764e-01,  2.58198917e-01,\n",
       "          3.33333313e-01, -1.66666672e-01, -1.66666701e-01,\n",
       "         -1.66666672e-01, -1.66666716e-01,  3.33333313e-01],\n",
       "        [-0.00000000e+00,  0.00000000e+00, -0.00000000e+00,\n",
       "         -0.00000000e+00, -0.00000000e+00, -5.77350259e-01,\n",
       "          2.04124153e-01, -4.74341631e-01,  2.58198857e-01,\n",
       "         -1.66666642e-01,  3.33333373e-01, -1.66666627e-01,\n",
       "         -1.66666687e-01,  3.33333343e-01, -1.66666701e-01],\n",
       "        [-0.00000000e+00,  0.00000000e+00, -0.00000000e+00,\n",
       "         -0.00000000e+00, -0.00000000e+00, -0.00000000e+00,\n",
       "         -6.12372458e-01, -4.74341631e-01,  2.58198887e-01,\n",
       "         -1.66666657e-01, -1.66666642e-01,  3.33333313e-01,\n",
       "          3.33333313e-01, -1.66666716e-01, -1.66666687e-01],\n",
       "        [-0.00000000e+00,  0.00000000e+00, -0.00000000e+00,\n",
       "         -0.00000000e+00, -0.00000000e+00, -5.77350259e-01,\n",
       "          2.04124153e-01,  1.58113867e-01, -5.16397774e-01,\n",
       "         -1.66666687e-01, -1.66666701e-01,  3.33333343e-01,\n",
       "          3.33333373e-01, -1.66666627e-01, -1.66666612e-01],\n",
       "        [-0.00000000e+00,  0.00000000e+00, -0.00000000e+00,\n",
       "         -0.00000000e+00, -0.00000000e+00, -0.00000000e+00,\n",
       "         -6.12372458e-01,  1.58113897e-01, -5.16397774e-01,\n",
       "         -1.66666701e-01,  3.33333284e-01, -1.66666716e-01,\n",
       "         -1.66666657e-01,  3.33333313e-01, -1.66666597e-01],\n",
       "        [-0.00000000e+00,  0.00000000e+00, -0.00000000e+00,\n",
       "         -0.00000000e+00, -0.00000000e+00, -0.00000000e+00,\n",
       "         -0.00000000e+00, -6.32455528e-01, -5.16397774e-01,\n",
       "          3.33333313e-01, -1.66666657e-01, -1.66666657e-01,\n",
       "         -1.66666642e-01, -1.66666627e-01,  3.33333373e-01]], dtype=float32),\n",
       " array([[-1.7320509 , -0.57735026, -0.57735026, -0.57735026,  0.        ,\n",
       "          0.        ,  0.        ,  0.        ,  0.        ],\n",
       "        [ 0.        ,  1.6329931 ,  0.4082483 ,  0.40824825,  0.        ,\n",
       "          0.        ,  0.        ,  0.        ,  0.        ],\n",
       "        [ 0.        ,  0.        , -1.5811388 , -0.31622773,  0.        ,\n",
       "          0.        ,  0.        ,  0.        ,  0.        ],\n",
       "        [ 0.        ,  0.        ,  0.        , -1.5491934 ,  0.        ,\n",
       "          0.        ,  0.        ,  0.        ,  0.        ],\n",
       "        [ 0.        ,  0.        ,  0.        ,  0.        , -1.7320508 ,\n",
       "          0.        ,  0.        ,  0.        ,  0.        ],\n",
       "        [ 0.        ,  0.        ,  0.        ,  0.        ,  0.        ,\n",
       "         -1.7320508 , -0.57735026, -0.57735026, -0.57735026],\n",
       "        [ 0.        ,  0.        ,  0.        ,  0.        ,  0.        ,\n",
       "          0.        , -1.6329931 , -0.4082483 , -0.4082483 ],\n",
       "        [ 0.        ,  0.        ,  0.        ,  0.        ,  0.        ,\n",
       "          0.        ,  0.        , -1.5811388 , -0.3162278 ],\n",
       "        [ 0.        ,  0.        ,  0.        ,  0.        ,  0.        ,\n",
       "          0.        ,  0.        ,  0.        , -1.5491934 ],\n",
       "        [ 0.        ,  0.        ,  0.        ,  0.        ,  0.        ,\n",
       "          0.        ,  0.        ,  0.        ,  0.        ],\n",
       "        [ 0.        ,  0.        ,  0.        ,  0.        ,  0.        ,\n",
       "          0.        ,  0.        ,  0.        ,  0.        ],\n",
       "        [ 0.        ,  0.        ,  0.        ,  0.        ,  0.        ,\n",
       "          0.        ,  0.        ,  0.        ,  0.        ],\n",
       "        [ 0.        ,  0.        ,  0.        ,  0.        ,  0.        ,\n",
       "          0.        ,  0.        ,  0.        ,  0.        ],\n",
       "        [ 0.        ,  0.        ,  0.        ,  0.        ,  0.        ,\n",
       "          0.        ,  0.        ,  0.        ,  0.        ],\n",
       "        [ 0.        ,  0.        ,  0.        ,  0.        ,  0.        ,\n",
       "          0.        ,  0.        ,  0.        ,  0.        ]],\n",
       "       dtype=float32))"
      ]
     },
     "execution_count": 61,
     "metadata": {},
     "output_type": "execute_result"
    }
   ],
   "source": [
    "Q, R"
   ]
  },
  {
   "cell_type": "code",
   "execution_count": 34,
   "metadata": {},
   "outputs": [
    {
     "data": {
      "text/plain": [
       "array([[-5.77350269e-01,  4.08248290e-01,  3.16227766e-01,\n",
       "         2.58198890e-01,  0.00000000e+00,  0.00000000e+00,\n",
       "        -4.48471386e-17, -3.40401152e-17, -2.65655920e-17,\n",
       "        -2.91006265e-01, -3.12401660e-01, -9.94764888e-02,\n",
       "        -3.29467975e-01, -1.16542804e-01, -1.37938199e-01],\n",
       "       [-5.77350269e-01, -2.04124145e-01, -4.74341649e-01,\n",
       "         2.58198890e-01,  0.00000000e+00,  0.00000000e+00,\n",
       "         7.42731758e-18, -2.95134198e-18, -4.18922825e-18,\n",
       "        -3.22857039e-03,  5.54572308e-02,  2.72855792e-01,\n",
       "         1.02268723e-01,  3.19667284e-01,  3.78353086e-01],\n",
       "       [-0.00000000e+00,  6.12372436e-01, -4.74341649e-01,\n",
       "         2.58198890e-01,  0.00000000e+00,  0.00000000e+00,\n",
       "         3.74198211e-17,  3.69914571e-17,  3.07548203e-17,\n",
       "         2.94234835e-01,  2.56944429e-01, -1.73379303e-01,\n",
       "         2.27199252e-01, -2.03124481e-01, -2.40414887e-01],\n",
       "       [-5.77350269e-01, -2.04124145e-01,  1.58113883e-01,\n",
       "        -5.16397779e-01,  0.00000000e+00,  0.00000000e+00,\n",
       "         3.74198211e-17,  3.69914571e-17,  3.07548203e-17,\n",
       "         2.94234835e-01,  2.56944429e-01, -1.73379303e-01,\n",
       "         2.27199252e-01, -2.03124481e-01, -2.40414887e-01],\n",
       "       [-0.00000000e+00,  6.12372436e-01,  1.58113883e-01,\n",
       "        -5.16397779e-01,  0.00000000e+00,  0.00000000e+00,\n",
       "         7.42731758e-18, -2.95134198e-18, -4.18922825e-18,\n",
       "        -3.22857039e-03,  5.54572308e-02,  2.72855792e-01,\n",
       "         1.02268723e-01,  3.19667284e-01,  3.78353086e-01],\n",
       "       [-0.00000000e+00,  0.00000000e+00, -6.32455532e-01,\n",
       "        -5.16397779e-01, -0.00000000e+00,  0.00000000e+00,\n",
       "        -4.48471386e-17, -3.40401152e-17, -2.65655920e-17,\n",
       "        -2.91006265e-01, -3.12401660e-01, -9.94764888e-02,\n",
       "        -3.29467975e-01, -1.16542804e-01, -1.37938199e-01],\n",
       "       [-0.00000000e+00,  0.00000000e+00, -0.00000000e+00,\n",
       "        -0.00000000e+00, -5.77350269e-01, -0.00000000e+00,\n",
       "         0.00000000e+00,  1.85037171e-17,  4.62592927e-17,\n",
       "        -4.63641079e-01,  2.08130350e-01, -3.36200704e-01,\n",
       "         2.55510729e-01, -2.88820325e-01,  3.82951104e-01],\n",
       "       [-0.00000000e+00,  0.00000000e+00, -0.00000000e+00,\n",
       "        -0.00000000e+00, -5.77350269e-01, -0.00000000e+00,\n",
       "        -0.00000000e+00, -9.25185854e-18, -3.70074342e-17,\n",
       "         2.60834978e-01, -4.70335444e-01, -1.98169917e-01,\n",
       "         2.09500467e-01,  4.81665994e-01, -2.49504428e-01],\n",
       "       [-0.00000000e+00,  0.00000000e+00, -0.00000000e+00,\n",
       "        -0.00000000e+00, -5.77350269e-01, -0.00000000e+00,\n",
       "        -0.00000000e+00, -9.25185854e-18, -9.25185854e-18,\n",
       "         2.02806101e-01,  2.62205094e-01,  5.34370621e-01,\n",
       "        -4.65011196e-01, -1.92845669e-01, -1.33446676e-01],\n",
       "       [-0.00000000e+00,  0.00000000e+00, -0.00000000e+00,\n",
       "        -0.00000000e+00, -0.00000000e+00, -5.77350269e-01,\n",
       "        -4.08248290e-01,  3.16227766e-01,  2.58198890e-01,\n",
       "         3.33333333e-01, -1.66666667e-01, -1.66666667e-01,\n",
       "        -1.66666667e-01, -1.66666667e-01,  3.33333333e-01],\n",
       "       [-0.00000000e+00,  0.00000000e+00, -0.00000000e+00,\n",
       "        -0.00000000e+00, -0.00000000e+00, -5.77350269e-01,\n",
       "         2.04124145e-01, -4.74341649e-01,  2.58198890e-01,\n",
       "        -1.66666667e-01,  3.33333333e-01, -1.66666667e-01,\n",
       "        -1.66666667e-01,  3.33333333e-01, -1.66666667e-01],\n",
       "       [-0.00000000e+00,  0.00000000e+00, -0.00000000e+00,\n",
       "        -0.00000000e+00, -0.00000000e+00, -0.00000000e+00,\n",
       "        -6.12372436e-01, -4.74341649e-01,  2.58198890e-01,\n",
       "        -1.66666667e-01, -1.66666667e-01,  3.33333333e-01,\n",
       "         3.33333333e-01, -1.66666667e-01, -1.66666667e-01],\n",
       "       [-0.00000000e+00,  0.00000000e+00, -0.00000000e+00,\n",
       "        -0.00000000e+00, -0.00000000e+00, -5.77350269e-01,\n",
       "         2.04124145e-01,  1.58113883e-01, -5.16397779e-01,\n",
       "        -1.66666667e-01, -1.66666667e-01,  3.33333333e-01,\n",
       "         3.33333333e-01, -1.66666667e-01, -1.66666667e-01],\n",
       "       [-0.00000000e+00,  0.00000000e+00, -0.00000000e+00,\n",
       "        -0.00000000e+00, -0.00000000e+00, -0.00000000e+00,\n",
       "        -6.12372436e-01,  1.58113883e-01, -5.16397779e-01,\n",
       "        -1.66666667e-01,  3.33333333e-01, -1.66666667e-01,\n",
       "        -1.66666667e-01,  3.33333333e-01, -1.66666667e-01],\n",
       "       [-0.00000000e+00,  0.00000000e+00, -0.00000000e+00,\n",
       "        -0.00000000e+00, -0.00000000e+00, -0.00000000e+00,\n",
       "        -0.00000000e+00, -6.32455532e-01, -5.16397779e-01,\n",
       "         3.33333333e-01, -1.66666667e-01, -1.66666667e-01,\n",
       "        -1.66666667e-01, -1.66666667e-01,  3.33333333e-01]])"
      ]
     },
     "execution_count": 34,
     "metadata": {},
     "output_type": "execute_result"
    }
   ],
   "source": [
    "Q "
   ]
  },
  {
   "cell_type": "code",
   "execution_count": null,
   "metadata": {},
   "outputs": [],
   "source": [
    "R"
   ]
  },
  {
   "cell_type": "code",
   "execution_count": 62,
   "metadata": {},
   "outputs": [
    {
     "data": {
      "text/plain": [
       "(array([[-4.98861885e-09, -4.08248216e-01,  0.00000000e+00,\n",
       "         -9.74504317e-08,  3.01660696e-09,  4.98861930e-09,\n",
       "         -5.77350259e-01,  4.08248335e-01,  9.25463350e-09,\n",
       "         -2.91006237e-01, -3.12401623e-01, -9.94765013e-02,\n",
       "         -3.29467952e-01, -1.16542794e-01, -1.37938187e-01],\n",
       "        [-5.73554182e-09, -4.08248305e-01,  0.00000000e+00,\n",
       "          5.00000060e-01, -1.19590586e-08,  5.73554271e-09,\n",
       "          2.88675129e-01,  4.08248246e-01,  1.30662974e-08,\n",
       "         -3.22856265e-03,  5.54572456e-02,  2.72855788e-01,\n",
       "          1.02268755e-01,  3.19667310e-01,  3.78353059e-01],\n",
       "        [ 1.07241602e-08, -4.08248246e-01,  0.00000000e+00,\n",
       "          5.00000000e-01,  8.94245211e-09, -1.07241629e-08,\n",
       "         -2.88675219e-01, -4.08248305e-01, -2.23209309e-08,\n",
       "          2.94234812e-01,  2.56944418e-01, -1.73379317e-01,\n",
       "          2.27199227e-01, -2.03124508e-01, -2.40414873e-01],\n",
       "        [ 1.07241611e-08, -4.08248305e-01,  0.00000000e+00,\n",
       "         -4.99999970e-01,  8.94244945e-09, -1.07241629e-08,\n",
       "          2.88675189e-01,  4.08248216e-01, -2.23209309e-08,\n",
       "          2.94234812e-01,  2.56944448e-01, -1.73379302e-01,\n",
       "          2.27199227e-01, -2.03124508e-01, -2.40414873e-01],\n",
       "        [-5.73554093e-09, -4.08248246e-01,  0.00000000e+00,\n",
       "         -5.00000000e-01, -1.19590577e-08,  5.73554226e-09,\n",
       "         -2.88675189e-01, -4.08248276e-01,  1.30662956e-08,\n",
       "         -3.22857848e-03,  5.54572232e-02,  2.72855818e-01,\n",
       "          1.02268733e-01,  3.19667280e-01,  3.78353059e-01],\n",
       "        [-4.98861930e-09, -4.08248305e-01,  0.00000000e+00,\n",
       "          5.93243392e-08,  3.01660674e-09,  4.98862018e-09,\n",
       "          5.77350140e-01, -4.08248365e-01,  9.25463528e-09,\n",
       "         -2.91006267e-01, -3.12401652e-01, -9.94764790e-02,\n",
       "         -3.29467982e-01, -1.16542786e-01, -1.37938187e-01],\n",
       "        [-4.71216088e-09,  0.00000000e+00, -5.77350259e-01,\n",
       "          0.00000000e+00, -8.22936475e-09,  4.71216177e-09,\n",
       "          0.00000000e+00,  0.00000000e+00,  1.04839488e-08,\n",
       "         -4.63641077e-01,  2.08130330e-01, -3.36200774e-01,\n",
       "          2.55510747e-01, -2.88820416e-01,  3.82951081e-01],\n",
       "        [ 1.17804033e-08,  0.00000000e+00, -5.77350259e-01,\n",
       "          0.00000000e+00,  2.05734132e-08, -1.17804060e-08,\n",
       "          0.00000000e+00,  0.00000000e+00, -2.62098752e-08,\n",
       "          2.60834992e-01, -4.70335364e-01, -1.98169902e-01,\n",
       "          2.09500447e-01,  4.81665999e-01, -2.49504507e-01],\n",
       "        [-7.06824155e-09,  0.00000000e+00, -5.77350259e-01,\n",
       "          0.00000000e+00, -1.23440476e-08,  7.06824288e-09,\n",
       "          0.00000000e+00,  0.00000000e+00,  1.57259237e-08,\n",
       "          2.02806070e-01,  2.62205064e-01,  5.34370661e-01,\n",
       "         -4.65011179e-01, -1.92845657e-01, -1.33446634e-01],\n",
       "        [ 4.08248246e-01,  0.00000000e+00,  0.00000000e+00,\n",
       "          0.00000000e+00, -5.71547627e-01,  4.08248305e-01,\n",
       "          0.00000000e+00,  0.00000000e+00, -8.16497207e-02,\n",
       "          3.33333313e-01, -1.66666672e-01, -1.66666701e-01,\n",
       "         -1.66666672e-01, -1.66666716e-01,  3.33333313e-01],\n",
       "        [ 4.08248335e-01,  0.00000000e+00,  0.00000000e+00,\n",
       "          0.00000000e+00,  2.15063095e-01,  4.08248186e-01,\n",
       "          0.00000000e+00,  0.00000000e+00,  5.35799563e-01,\n",
       "         -1.66666642e-01,  3.33333373e-01, -1.66666627e-01,\n",
       "         -1.66666687e-01,  3.33333343e-01, -1.66666701e-01],\n",
       "        [ 4.08248246e-01,  0.00000000e+00,  0.00000000e+00,\n",
       "          0.00000000e+00, -3.56484652e-01, -4.08248276e-01,\n",
       "          0.00000000e+00,  0.00000000e+00,  4.54149842e-01,\n",
       "         -1.66666657e-01, -1.66666642e-01,  3.33333313e-01,\n",
       "          3.33333313e-01, -1.66666716e-01, -1.66666687e-01],\n",
       "        [ 4.08248335e-01,  0.00000000e+00,  0.00000000e+00,\n",
       "          0.00000000e+00,  3.56484532e-01,  4.08248216e-01,\n",
       "          0.00000000e+00,  0.00000000e+00, -4.54149842e-01,\n",
       "         -1.66666687e-01, -1.66666701e-01,  3.33333343e-01,\n",
       "          3.33333373e-01, -1.66666627e-01, -1.66666612e-01],\n",
       "        [ 4.08248246e-01,  0.00000000e+00,  0.00000000e+00,\n",
       "          0.00000000e+00, -2.15063170e-01, -4.08248305e-01,\n",
       "          0.00000000e+00,  0.00000000e+00, -5.35799623e-01,\n",
       "         -1.66666701e-01,  3.33333284e-01, -1.66666716e-01,\n",
       "         -1.66666657e-01,  3.33333313e-01, -1.66666597e-01],\n",
       "        [ 4.08248305e-01,  0.00000000e+00,  0.00000000e+00,\n",
       "          0.00000000e+00,  5.71547508e-01, -4.08248365e-01,\n",
       "          0.00000000e+00,  0.00000000e+00,  8.16497281e-02,\n",
       "          3.33333313e-01, -1.66666657e-01, -1.66666657e-01,\n",
       "         -1.66666642e-01, -1.66666627e-01,  3.33333373e-01]], dtype=float32),\n",
       " array([2.4494896, 2.4494896, 1.7320508, 1.4142137, 1.4142135, 1.4142135,\n",
       "        1.4142135, 1.4142135, 1.4142134], dtype=float32),\n",
       " array([[-0.00000000e+00, -0.00000000e+00, -0.00000000e+00,\n",
       "         -0.00000000e+00, -0.00000000e+00,  5.00000060e-01,\n",
       "          4.99999940e-01,  4.99999940e-01,  4.99999940e-01],\n",
       "        [-5.00000119e-01, -4.99999940e-01, -4.99999940e-01,\n",
       "         -4.99999940e-01,  0.00000000e+00,  0.00000000e+00,\n",
       "          0.00000000e+00,  0.00000000e+00,  0.00000000e+00],\n",
       "        [-0.00000000e+00, -0.00000000e+00, -0.00000000e+00,\n",
       "         -0.00000000e+00, -1.00000000e+00, -0.00000000e+00,\n",
       "         -0.00000000e+00,  0.00000000e+00,  0.00000000e+00],\n",
       "        [-0.00000000e+00, -1.17200806e-07,  7.07106829e-01,\n",
       "         -7.07106769e-01, -0.00000000e+00, -0.00000000e+00,\n",
       "         -0.00000000e+00,  0.00000000e+00,  0.00000000e+00],\n",
       "        [-0.00000000e+00, -0.00000000e+00, -0.00000000e+00,\n",
       "         -0.00000000e+00, -0.00000000e+00, -0.00000000e+00,\n",
       "         -8.08290422e-01,  3.04145187e-01,  5.04145205e-01],\n",
       "        [ 0.00000000e+00,  0.00000000e+00,  0.00000000e+00,\n",
       "          0.00000000e+00,  0.00000000e+00,  8.66025329e-01,\n",
       "         -2.88675159e-01, -2.88675159e-01, -2.88675159e-01],\n",
       "        [-0.00000000e+00, -8.16496670e-01,  4.08248305e-01,\n",
       "          4.08248365e-01, -0.00000000e+00, -0.00000000e+00,\n",
       "         -0.00000000e+00,  0.00000000e+00,  0.00000000e+00],\n",
       "        [ 8.66025329e-01, -2.88675189e-01, -2.88675189e-01,\n",
       "         -2.88675189e-01,  0.00000000e+00,  0.00000000e+00,\n",
       "          0.00000000e+00,  0.00000000e+00,  0.00000000e+00],\n",
       "        [-0.00000000e+00, -0.00000000e+00, -0.00000000e+00,\n",
       "         -0.00000000e+00, -0.00000000e+00, -0.00000000e+00,\n",
       "         -1.15470044e-01,  7.57735014e-01, -6.42265022e-01]], dtype=float32))"
      ]
     },
     "execution_count": 62,
     "metadata": {},
     "output_type": "execute_result"
    }
   ],
   "source": [
    "scipy.linalg.svd(F)"
   ]
  },
  {
   "cell_type": "code",
   "execution_count": null,
   "metadata": {},
   "outputs": [],
   "source": []
  }
 ],
 "metadata": {
  "kernelspec": {
   "display_name": "Python 3",
   "language": "python",
   "name": "python3"
  },
  "language_info": {
   "codemirror_mode": {
    "name": "ipython",
    "version": 3
   },
   "file_extension": ".py",
   "mimetype": "text/x-python",
   "name": "python",
   "nbconvert_exporter": "python",
   "pygments_lexer": "ipython3",
   "version": "3.8.5"
  }
 },
 "nbformat": 4,
 "nbformat_minor": 4
}
